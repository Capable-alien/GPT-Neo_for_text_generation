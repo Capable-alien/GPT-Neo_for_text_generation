{
  "nbformat": 4,
  "nbformat_minor": 0,
  "metadata": {
    "colab": {
      "provenance": []
    },
    "kernelspec": {
      "name": "python3",
      "display_name": "Python 3"
    },
    "language_info": {
      "name": "python"
    }
  },
  "cells": [
    {
      "cell_type": "code",
      "source": [
        "!pip install transformers\n",
        "!pip install torch\n",
        "!pip install langchain"
      ],
      "metadata": {
        "collapsed": true,
        "id": "eR_SPVBqmBqH"
      },
      "execution_count": null,
      "outputs": []
    },
    {
      "cell_type": "code",
      "source": [
        "from transformers import AutoModelForCausalLM, AutoTokenizer, pipeline\n",
        "from langchain_huggingface import HuggingFacePipeline\n",
        "\n",
        "# Load GPT-Neo model and tokenizer\n",
        "model_name = \"EleutherAI/gpt-neo-2.7B\"  # You can also use \"EleutherAI/gpt-neo-1.3B\"\n",
        "tokenizer = AutoTokenizer.from_pretrained(model_name)\n",
        "model = AutoModelForCausalLM.from_pretrained(model_name)\n",
        "\n"
      ],
      "metadata": {
        "id": "JFlNiSVwo-G4"
      },
      "execution_count": null,
      "outputs": []
    },
    {
      "cell_type": "code",
      "source": [
        "# Set up the pipeline with adjusted parameters\n",
        "text_generation_pipeline = pipeline(\n",
        "    \"text-generation\",\n",
        "    model=model,\n",
        "    tokenizer=tokenizer,\n",
        "    max_new_tokens=150,  # Increased token limit for more comprehensive responses\n",
        "    temperature=0.7,  # Adjusted for more randomness\n",
        "    top_p=0.95,  # Adjusted for nucleus sampling\n",
        "    top_k=50  # Adjusted for top-k sampling\n",
        ")\n",
        "\n"
      ],
      "metadata": {
        "id": "VXo9Q5FFxKEb"
      },
      "execution_count": null,
      "outputs": []
    },
    {
      "cell_type": "code",
      "source": [
        "# Integrate with LangChain\n",
        "hf_pipeline = HuggingFacePipeline(pipeline=text_generation_pipeline)\n",
        "\n"
      ],
      "metadata": {
        "id": "Gef0s5a0xLVm"
      },
      "execution_count": null,
      "outputs": []
    },
    {
      "cell_type": "code",
      "source": [
        "# Get the prompt from user input\n",
        "prompt = input(\"Please enter your prompt: \")\n",
        "\n",
        "# Invoke the model with the refined prompt\n",
        "response = hf_pipeline.invoke(prompt)\n",
        "print(response)\n"
      ],
      "metadata": {
        "id": "UFK_0xzexMgX"
      },
      "execution_count": null,
      "outputs": []
    }
  ]
}